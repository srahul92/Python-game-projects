{
 "cells": [
  {
   "cell_type": "markdown",
   "id": "7f0c31d5",
   "metadata": {},
   "source": [
    "# hangmans game"
   ]
  },
  {
   "cell_type": "code",
   "execution_count": null,
   "id": "bff8c7b0",
   "metadata": {},
   "outputs": [
    {
     "name": "stdout",
     "output_type": "stream",
     "text": [
      " \n",
      " _                                             \n",
      "| |                                            \n",
      "| |__   __ _ _ __   __ _ _ __ ___   __ _ _ __  \n",
      "| '_ \\ / _` | '_ \\ / _` | '_ ` _ \\ / _` | '_ \\ \n",
      "| | | | (_| | | | | (_| | | | | | | (_| | | | |\n",
      "|_| |_|\\__,_|_| |_|\\__, |_| |_| |_|\\__,_|_| |_|\n",
      "                    __/ |                      \n",
      "                   |___/    \n",
      "Pssst, the solution is grogginess.\n",
      "Enter a letter: g\n",
      "g _ _ g g _ _ _ _ _\n",
      "\n",
      "  +---+\n",
      "  |   |\n",
      "      |\n",
      "      |\n",
      "      |\n",
      "      |\n",
      "=========\n",
      "\n",
      "Enter a letter: r\n",
      "g r _ g g _ _ _ _ _\n",
      "\n",
      "  +---+\n",
      "  |   |\n",
      "      |\n",
      "      |\n",
      "      |\n",
      "      |\n",
      "=========\n",
      "\n",
      "Enter a letter: g\n",
      "g you have already entered that word\n",
      "g r _ g g _ _ _ _ _\n",
      "\n",
      "  +---+\n",
      "  |   |\n",
      "      |\n",
      "      |\n",
      "      |\n",
      "      |\n",
      "=========\n",
      "\n"
     ]
    }
   ],
   "source": [
    "import hangman as hangman\n",
    "import random\n",
    "\n",
    "\n",
    "chosen_word = random.choice(hangman.word_list).lower()\n",
    "word_len = len(chosen_word)\n",
    "\n",
    "lives = 6\n",
    "print(hangman.logo)\n",
    "#cheat code\n",
    "print(f'Pssst, the solution is {chosen_word}.')\n",
    "\n",
    "display = []\n",
    "for _ in range(word_len):\n",
    "    display += \"_\"\n",
    "\n",
    "end_of_game = False\n",
    "\n",
    "while not end_of_game:\n",
    "    guess = input(\"Enter a letter: \").lower()\n",
    "    \n",
    "    if guess in display:\n",
    "        print(f\"{guess} you have already entered that word\")\n",
    "    for position in range(word_len):\n",
    "        letter = chosen_word[position]\n",
    "        if letter == guess:\n",
    "            display[position] = letter\n",
    "    print(f\"{' '.join(display)}\")   # to convert the list into a string\n",
    "    \n",
    "    if guess not in display:\n",
    "        print(f\"{guess} Wrong guess\")\n",
    "        lives-=1\n",
    "        if lives == 0:\n",
    "            end_of_game = True\n",
    "            print(\"you lose\")\n",
    "     \n",
    "    \n",
    "    if \"_\" not in display:\n",
    "        end_of_game = True\n",
    "        print(\"You Win\")\n",
    "\n",
    "    print(hangman.stages[lives])"
   ]
  },
  {
   "cell_type": "markdown",
   "id": "7493bf70",
   "metadata": {},
   "source": [
    "# functions"
   ]
  },
  {
   "cell_type": "code",
   "execution_count": 29,
   "id": "33967604",
   "metadata": {},
   "outputs": [],
   "source": [
    "import math"
   ]
  },
  {
   "cell_type": "code",
   "execution_count": 30,
   "id": "7a54964e",
   "metadata": {},
   "outputs": [],
   "source": [
    "def fn(height,width,cover):\n",
    "    area = height * width\n",
    "    num_of_cans = math.ceil(area/cover)\n",
    "    print(f\"you'll need {num_of_cans}\")"
   ]
  },
  {
   "cell_type": "code",
   "execution_count": 31,
   "id": "727cf418",
   "metadata": {},
   "outputs": [
    {
     "name": "stdout",
     "output_type": "stream",
     "text": [
      "you'll need 19\n"
     ]
    }
   ],
   "source": [
    "fn(7,13,5)"
   ]
  },
  {
   "cell_type": "code",
   "execution_count": 4,
   "id": "0768e202",
   "metadata": {},
   "outputs": [
    {
     "name": "stdout",
     "output_type": "stream",
     "text": [
      "Check this number: 4\n",
      "The no 4 is a not prime number\n"
     ]
    }
   ],
   "source": [
    "#Write your code below this line 👇\n",
    "def prime_checker(number):\n",
    "    is_prime = True\n",
    "    for k in range(2,number):\n",
    "        if number%k == 0:\n",
    "            is_prime = False\n",
    "#     print()\n",
    "    \n",
    "    if is_prime:\n",
    "        print(f\"The no {number} is a prime number\")\n",
    "    \n",
    "    else:\n",
    "        print(f\"The no {number} is a not prime number\")\n",
    "\n",
    "\n",
    "#Write your code above this line 👆\n",
    "    \n",
    "#Do NOT change any of the code below👇\n",
    "n = int(input(\"Check this number: \"))\n",
    "prime_checker(number=n)\n",
    "\n",
    "\n",
    "\n"
   ]
  },
  {
   "cell_type": "markdown",
   "id": "187ad395",
   "metadata": {},
   "source": [
    "# caesar cipher"
   ]
  },
  {
   "cell_type": "code",
   "execution_count": 2,
   "id": "12f553d1",
   "metadata": {},
   "outputs": [],
   "source": [
    "logo = \"\"\"           \n",
    " ,adPPYba, ,adPPYYba,  ,adPPYba, ,adPPYba, ,adPPYYba, 8b,dPPYba,  \n",
    "a8\"     \"\" \"\"     `Y8 a8P_____88 I8[    \"\" \"\"     `Y8 88P'   \"Y8  \n",
    "8b         ,adPPPPP88 8PP\"\"\"\"\"\"\"  `\"Y8ba,  ,adPPPPP88 88          \n",
    "\"8a,   ,aa 88,    ,88 \"8b,   ,aa aa    ]8I 88,    ,88 88          \n",
    " `\"Ybbd8\"' `\"8bbdP\"Y8  `\"Ybbd8\"' `\"YbbdP\"' `\"8bbdP\"Y8 88   \n",
    "            88             88                                 \n",
    "           \"\"             88                                 \n",
    "                          88                                 \n",
    " ,adPPYba, 88 8b,dPPYba,  88,dPPYba,   ,adPPYba, 8b,dPPYba,  \n",
    "a8\"     \"\" 88 88P'    \"8a 88P'    \"8a a8P_____88 88P'   \"Y8  \n",
    "8b         88 88       d8 88       88 8PP\"\"\"\"\"\"\" 88          \n",
    "\"8a,   ,aa 88 88b,   ,a8\" 88       88 \"8b,   ,aa 88          \n",
    " `\"Ybbd8\"' 88 88`YbbdP\"'  88       88  `\"Ybbd8\"' 88          \n",
    "              88                                             \n",
    "              88           \n",
    "\"\"\""
   ]
  },
  {
   "cell_type": "code",
   "execution_count": 8,
   "id": "ff2a6357",
   "metadata": {},
   "outputs": [],
   "source": [
    "alphabet = ['a', 'b', 'c', 'd', 'e', 'f', 'g', 'h', 'i', 'j', 'k', 'l', 'm', 'n', 'o', 'p', 'q', 'r', 's', \n",
    "            't', 'u', 'v', 'w', 'x', 'y', 'z','a', 'b', 'c', 'd', 'e', 'f', 'g', 'h', 'i', 'j', 'k', 'l', 'm', 'n', 'o', 'p', 'q', 'r', 's', \n",
    "            't', 'u', 'v', 'w', 'x', 'y', 'z']\n",
    " \n",
    "def ceasar_ci():\n",
    "    print(logo)\n",
    "    y = \"restart\"\n",
    "    while y == \"restart\":\n",
    "        direction = input(\"Type 'encode' to encrypt, type 'decode' to decrypt:\\n\")\n",
    "        text = input(\"Type your message:\\n\").lower()\n",
    "        shift = int(input(\"Type the shift number:\\n\"))\n",
    "    #     def encode(text,shifts,direction):\n",
    "        code = \"\"\n",
    "        for i in text:\n",
    "                position = alphabet.index(i) \n",
    "        if direction == \"encode\":                           \n",
    "            code+= alphabet[position+shift]\n",
    "            print(f\"The message is {code}\")\n",
    "            c = input(\"do you want to continue? \")\n",
    "            if c == \"yes\":\n",
    "                \"restart\"\n",
    "            else:\n",
    "                print(\"thank you\")\n",
    "                break\n",
    "        \n",
    "    #     def decode(text,shifts,direction):\n",
    "        if direction == \"decode\":             \n",
    "            code+= alphabet[position-shift]\n",
    "            print(f\"The decrpted message is {code}\")\n",
    "            a = input(\"do you want to continue? \")\n",
    "            if a == \"yes\":\n",
    "                \"restart\"\n",
    "            else:\n",
    "                print(\"Thank you\")\n",
    "                break\n",
    "            \n",
    "# ceasar_ci()"
   ]
  },
  {
   "cell_type": "code",
   "execution_count": null,
   "id": "025c6ad2",
   "metadata": {},
   "outputs": [],
   "source": []
  },
  {
   "cell_type": "code",
   "execution_count": null,
   "id": "a7999db7",
   "metadata": {},
   "outputs": [],
   "source": []
  },
  {
   "cell_type": "code",
   "execution_count": null,
   "id": "b5b29bbb",
   "metadata": {},
   "outputs": [],
   "source": []
  },
  {
   "cell_type": "code",
   "execution_count": null,
   "id": "c7fc40a4",
   "metadata": {},
   "outputs": [],
   "source": []
  }
 ],
 "metadata": {
  "kernelspec": {
   "display_name": "Python 3 (ipykernel)",
   "language": "python",
   "name": "python3"
  },
  "language_info": {
   "codemirror_mode": {
    "name": "ipython",
    "version": 3
   },
   "file_extension": ".py",
   "mimetype": "text/x-python",
   "name": "python",
   "nbconvert_exporter": "python",
   "pygments_lexer": "ipython3",
   "version": "3.9.7"
  }
 },
 "nbformat": 4,
 "nbformat_minor": 5
}
