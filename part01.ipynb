{
 "cells": [
  {
   "cell_type": "markdown",
   "id": "7e4fe90e",
   "metadata": {},
   "source": [
    "### Tip calculator."
   ]
  },
  {
   "cell_type": "code",
   "execution_count": 1,
   "id": "1935ce11",
   "metadata": {},
   "outputs": [
    {
     "name": "stdout",
     "output_type": "stream",
     "text": [
      "Welcome to the tip calculator!\n",
      "What was the total bill? $200\n",
      "How much tip would you like to give? 10, 12, or 15 percent? 10\n",
      "How many people to split the bill?1\n",
      "Each person should pay: $220.0\n"
     ]
    }
   ],
   "source": [
    "print(\"Welcome to the tip calculator!\")\n",
    "bill = float(input(\"What was the total bill? $\"))\n",
    "tip = int(input(\"How much tip would you like to give? 10, 12, or 15 percent? \"))\n",
    "people = int(input(\"How many people to split the bill?\"))\n",
    "\n",
    "tip_as_percent = tip / 100\n",
    "total_tip_amount = bill * tip_as_percent\n",
    "total_bill = bill + total_tip_amount\n",
    "bill_per_person = total_bill / people\n",
    "final_amount = round(bill_per_person, 2)\n",
    "\n",
    "\n",
    "print(f\"Each person should pay: ${final_amount}\")"
   ]
  },
  {
   "cell_type": "code",
   "execution_count": 3,
   "id": "83b30023",
   "metadata": {},
   "outputs": [
    {
     "name": "stdout",
     "output_type": "stream",
     "text": [
      "the f string function. work like True and 2.22 123\n"
     ]
    }
   ],
   "source": [
    "#the f string function\n",
    "count = 0\n",
    "s = True\n",
    "q = 2.22\n",
    "i = 123\n",
    "print(f\"the f string function. work like {s} and {q} {i}\")"
   ]
  },
  {
   "cell_type": "markdown",
   "id": "b563a7cc",
   "metadata": {},
   "source": [
    "### Roller coster ride codes."
   ]
  },
  {
   "cell_type": "code",
   "execution_count": 5,
   "id": "6a2b570d",
   "metadata": {},
   "outputs": [
    {
     "name": "stdout",
     "output_type": "stream",
     "text": [
      "Enter you height in CM: 180\n",
      "you can ride\n",
      "Enter your age25\n",
      "please give $12\n",
      "you want photosyes\n",
      "you total bill is 15$\n"
     ]
    }
   ],
   "source": [
    "height = float(input(\"Enter you height in CM: \"))\n",
    "if height>=120:\n",
    "    print(\"you can ride\")\n",
    "    age = int(input(\"Enter your age\"))\n",
    "    if age < 12:\n",
    "        print(\"please give $5\")\n",
    "        bill = 5\n",
    "    elif age<=12 and age<=18:\n",
    "        print(\"please give $7\")\n",
    "        bill = 7\n",
    "    elif age>18:\n",
    "        print(\"please give $12\")\n",
    "        bill = 12\n",
    "    photos = input(\"you want photos\")\n",
    "    if photos == 'yes':\n",
    "        bill+=3\n",
    "        print(f\"you total bill is {bill}$\")\n",
    "    if photos != 'yes':\n",
    "        print(f\"your total bill is {bill}$\")\n",
    "        \n",
    "else:\n",
    "    print(\"Sorry, you have to grow taller before you can ride\")"
   ]
  },
  {
   "cell_type": "markdown",
   "id": "886d1ff4",
   "metadata": {},
   "source": [
    "### Pizza order practice."
   ]
  },
  {
   "cell_type": "code",
   "execution_count": 13,
   "id": "8392dcec",
   "metadata": {},
   "outputs": [
    {
     "name": "stdout",
     "output_type": "stream",
     "text": [
      "enter your expression?2+3-5\n",
      "0\n"
     ]
    }
   ],
   "source": [
    "result = eval(input(\"enter your expression?\"))\n",
    "print(result)"
   ]
  },
  {
   "cell_type": "code",
   "execution_count": 3,
   "id": "d4064517",
   "metadata": {},
   "outputs": [
    {
     "name": "stdout",
     "output_type": "stream",
     "text": [
      "welcome to python pizza centre\n",
      "what size of pizza you want? s,m or l l\n",
      "Do you want pepperoni? yes or no yes\n",
      "Do you want extra cheese? yes or no yes\n",
      "your total bill is 29 $\n"
     ]
    }
   ],
   "source": [
    "print(\"welcome to python pizza centre\")\n",
    "size = input(\"what size of pizza you want? s,m or l \")\n",
    "add_pepperoni = input(\"Do you want pepperoni? yes or no \")\n",
    "extra_cheese = input(\"Do you want extra cheese? yes or no \")\n",
    "if size == 's':\n",
    "    bill = 12\n",
    "    if (add_pepperoni == 'yes') & (extra_cheese == 'no') :\n",
    "        bill+=2\n",
    "        print(f\"your total bill is {bill} $\")\n",
    "    elif (add_pepperoni == 'no') & (extra_cheese == 'yes'):\n",
    "        bill+=1\n",
    "        print(f\"your total bill is {bill} $\")\n",
    "    elif (add_pepperoni == 'yes') & (extra_cheese == 'yes'):\n",
    "        bill+=3\n",
    "        print(f\"your total bill is {bill} $\")\n",
    "    else:\n",
    "        print(f\"your total bill is {bill} $\")\n",
    "\n",
    "elif size == 'm':\n",
    "    bill = 20\n",
    "    if (add_pepperoni == 'yes') & (extra_cheese == 'no'):\n",
    "        bill+=3\n",
    "        print(f\"your total bill is {bill} $\")\n",
    "    elif (add_pepperoni == 'no') & (extra_cheese == 'yes'):\n",
    "        bill+=1\n",
    "        print(f\"your total bill is {bill} $\")\n",
    "    elif (add_pepperoni == 'yes') & (extra_cheese == 'yes'):\n",
    "        bill+=4\n",
    "        print(f\"your total bill is {bill} $\")\n",
    "    else:\n",
    "        print(f\"your total bill is {bill} $\")\n",
    "\n",
    "elif size == 'l':\n",
    "    bill = 25\n",
    "    if (add_pepperoni == 'yes') & (extra_cheese == 'no'):\n",
    "        bill+=3\n",
    "        print(f\"your total bill is {bill} $\")\n",
    "    elif (add_pepperoni == 'no') & (extra_cheese == 'yes'):\n",
    "        bill+=1\n",
    "        print(f\"your total bill is {bill} $\")\n",
    "    elif (add_pepperoni == 'yes') & (extra_cheese == 'yes'):\n",
    "        bill+=4\n",
    "        print(f\"your total bill is {bill} $\")\n",
    "    else:\n",
    "        print(f\"your total bill is {bill} $\")"
   ]
  },
  {
   "cell_type": "markdown",
   "id": "d14d50d4",
   "metadata": {},
   "source": [
    "### Love calculator"
   ]
  },
  {
   "cell_type": "code",
   "execution_count": 1,
   "id": "0a4539c0",
   "metadata": {},
   "outputs": [
    {
     "name": "stdout",
     "output_type": "stream",
     "text": [
      "Welcome to the Love calculator\n",
      "Enter your name? RAHUL SHARMA\n",
      "Enter your wanna be name? Shweta\n",
      "21\n",
      "your score is 21\n"
     ]
    }
   ],
   "source": [
    "#check your love score\n",
    "\n",
    "\n",
    "print(\"Welcome to the Love calculator\")\n",
    "\n",
    "name_1 = input(\"Enter your name? \")\n",
    "name_2 = input(\"Enter your wanna be name? \")\n",
    "\n",
    "y_name = name_1.lower()\n",
    "l_name = name_2.lower()\n",
    "\n",
    "new_name = name_1 + name_2\n",
    "\n",
    "t = new_name.count('t')\n",
    "r = new_name.count('r')\n",
    "u = new_name.count('u')\n",
    "e = new_name.count('e')\n",
    "\n",
    "l = new_name.count('l')\n",
    "o = new_name.count('o')\n",
    "v = new_name.count('v')\n",
    "e = new_name.count('e')\n",
    "\n",
    "true = t+r+u+e\n",
    "love = l+o+v+e\n",
    "score = str(true) + str(love)\n",
    "love_score = int(score)\n",
    "print(love_score)\n",
    "\n",
    "if (love_score<10) or (love_score>90):\n",
    "    print(f\"your score is {love_score}, you go together like coke and mentos!\")\n",
    "elif (love_score >= 40) and (love_score <= 50):\n",
    "    print(f\"your score is {love_score}, you are alright together!\")\n",
    "else:\n",
    "    print(f\"your score is {love_score}\")"
   ]
  },
  {
   "cell_type": "markdown",
   "id": "498fe2ad",
   "metadata": {},
   "source": [
    "### Treasure island"
   ]
  },
  {
   "cell_type": "code",
   "execution_count": 35,
   "id": "2335d41e",
   "metadata": {},
   "outputs": [
    {
     "name": "stdout",
     "output_type": "stream",
     "text": [
      "Welcome to treasure island, your mission is to find the treasue\n",
      "Do you want to go left or right? f\n",
      "Fall into a hole game over\n"
     ]
    }
   ],
   "source": [
    "print(\"Welcome to treasure island, your mission is to find the treasue\")\n",
    "choice_1 = input(\"Do you want to go left or right? \").lower()\n",
    "if choice_1 == 'left':\n",
    "    choice_2 = input(\"swim or wait? \").lower()\n",
    "    if choice_2 == 'wait':\n",
    "        choice_3 = input(\"which door you want to go? blue,red,yellow & anything else \").lower()\n",
    "        if choice_3 == 'yellow':\n",
    "            print(\"You win\")\n",
    "        elif choice_3 == 'blue':\n",
    "            print(\"Eaten by beast. Game over!\")\n",
    "        elif choice_3 == 'red':\n",
    "            print(\"burned by fire game over!\")\n",
    "    else:\n",
    "        print(\"attacked by trout game over!\")\n",
    "    \n",
    "else:\n",
    "    print(\"Fall into a hole game over\")"
   ]
  },
  {
   "cell_type": "code",
   "execution_count": 4,
   "id": "38639263",
   "metadata": {},
   "outputs": [
    {
     "name": "stdout",
     "output_type": "stream",
     "text": [
      "enter the list of names with comma? r,s,d,f,g\n",
      "The person who gonna pay is s\n"
     ]
    }
   ],
   "source": [
    "import random\n",
    "names_string = input(\"enter the list of names with comma? \")\n",
    "names = names_string.split(\",\")\n",
    "\n",
    "# names_len = len(names_string)         #instead of this we can also write the entire code in a single line\n",
    "# random_choice = random.randint(0,names_len-1)\n",
    "# person_who_pay = names[random_choice]\n",
    "\n",
    "person_who_pay = random.choice(names)\n",
    "\n",
    "print(f\"The person who gonna pay is {person_who_pay}\")"
   ]
  },
  {
   "cell_type": "markdown",
   "id": "3389382d",
   "metadata": {},
   "source": [
    "### tresure map"
   ]
  },
  {
   "cell_type": "code",
   "execution_count": 4,
   "id": "d17ad538",
   "metadata": {},
   "outputs": [
    {
     "name": "stdout",
     "output_type": "stream",
     "text": [
      "['⬜️', '⬜️', '⬜️']\n",
      "['⬜️', '⬜️', '⬜️']\n",
      "['⬜️', '⬜️', '⬜️']\n",
      "Where do you want to put the treasure? the row and col 12\n",
      "[['⬜️', '⬜️', '⬜️'], ['⬜️', '⬜️', '⬜️'], ['⬜️', 'x', '⬜️']]\n"
     ]
    }
   ],
   "source": [
    "# 🚨 Don't change the code below 👇\n",
    "row1 = [\"⬜️\",\"⬜️\",\"⬜️\"]\n",
    "row2 = [\"⬜️\",\"⬜️\",\"⬜️\"]\n",
    "row3 = [\"⬜️\",\"⬜️\",\"⬜️\"]\n",
    "map = [row1, row2, row3]\n",
    "print(f\"{row1}\\n{row2}\\n{row3}\")\n",
    "position = input(\"Where do you want to put the treasure? the row and col \")\n",
    "\n",
    "horizontal = int(position[0])\n",
    "vertical = int(position[1])\n",
    "map[vertical][horizontal] = \"x\"\n",
    "print(map)"
   ]
  },
  {
   "cell_type": "markdown",
   "id": "62660a99",
   "metadata": {},
   "source": [
    "### rock,paper & scissor game"
   ]
  },
  {
   "cell_type": "code",
   "execution_count": 85,
   "id": "7b322b20",
   "metadata": {},
   "outputs": [
    {
     "name": "stdout",
     "output_type": "stream",
     "text": [
      "What you choose 0=rock, 1=paper, 2=scissor? 1\n",
      "you win computer's choice =  /t \n",
      "    _______\n",
      "---'   ____)\n",
      "      (_____)\n",
      "      (_____)\n",
      "      (____)\n",
      "---.__(___)\n",
      " your's choice=  \n",
      "    _______\n",
      "---'   ____)____\n",
      "          ______)\n",
      "          _______)\n",
      "         _______)\n",
      "---.__________)\n",
      "\n"
     ]
    }
   ],
   "source": [
    "rock = '''\n",
    "    _______\n",
    "---'   ____)\n",
    "      (_____)\n",
    "      (_____)\n",
    "      (____)\n",
    "---.__(___)\n",
    "'''\n",
    "\n",
    "paper = '''\n",
    "    _______\n",
    "---'   ____)____\n",
    "          ______)\n",
    "          _______)\n",
    "         _______)\n",
    "---.__________)\n",
    "'''\n",
    "\n",
    "scissor = '''\n",
    "    _______\n",
    "---'   ____)____\n",
    "          ______)\n",
    "       __________)\n",
    "      (____)\n",
    "---.__(___)\n",
    "'''\n",
    "\n",
    "import random\n",
    "map = [rock,paper,scissor]\n",
    "\n",
    "random = random.randint(0,2)\n",
    "random_choice = map[random]\n",
    "\n",
    "user = int(input(\"What you choose 0=rock, 1=paper, 2=scissor? \"))\n",
    "user_input = map[user]\n",
    "\n",
    "if (random_choice == rock) & (user_input==rock):\n",
    "    print(\"Match draw\",\"computer\\'s choice = \",\"/t\",random_choice,\"your\\'s choice= \",user_input)\n",
    "\n",
    "elif (random_choice == rock) & (user_input==paper):\n",
    "    print(\"you win\",\"computer\\'s choice = \",\"/t\",random_choice,\"your\\'s choice= \",user_input)\n",
    "\n",
    "elif (random_choice == rock) & (user_input==scissor):\n",
    "    print(\"computer win\",\"computer\\'s choice = \",\"/t\",random_choice,\"your\\'s choice= \",user_input)\n",
    "\n",
    "elif (random_choice == paper) & (user_input==rock):\n",
    "    print(\"computer win\",\"computer\\'s choice = \",\"/t\",random_choice,\"your\\'s choice= \",user_input)\n",
    "\n",
    "\n",
    "elif (random_choice == paper) & (user_input==paper):\n",
    "    print(\"Match draw\",\"computer\\'s choice = \",\"/t\",random_choice,\"your\\'s choice= \",user_input)\n",
    "\n",
    "elif (random_choice == paper) & (user_input==scissor):\n",
    "    print(\"you win\",\"computer\\'s choice = \",\"/t\",random_choice,\"your\\'s choice= \",user_input)\n",
    "\n",
    "elif (random_choice == scissor) & (user_input==rock):\n",
    "    print(\"you win\",\"computer\\'s choice = \",\"/t\",random_choice,\"your\\'s choice= \",user_input)\n",
    "\n",
    "elif (random_choice == scissor) & (user_input==paper):\n",
    "    print(\"computer win\",\"computer\\'s choice = \",\"/t\",random_choice,\"your\\'s choice= \",user_input)\n",
    "\n",
    "elif (random_choice == scissor) & (user_input==scissor):\n",
    "    print(\"match draw\",\"computer\\'s choice = \",\"/t\",random_choice,\"your\\'s choice= \",user_input)\n",
    "\n",
    "\n"
   ]
  },
  {
   "cell_type": "code",
   "execution_count": 5,
   "id": "054f456d",
   "metadata": {},
   "outputs": [
    {
     "name": "stdout",
     "output_type": "stream",
     "text": [
      "Enter your choice? 1=rock, 2=paper, 3=scissors 1\n",
      "\n",
      "    _______\n",
      "---'   ____)____\n",
      "          ______)\n",
      "          _______)\n",
      "         _______)\n",
      "---.__________)\n",
      "\n",
      "computer choice\n",
      "\n",
      "    _______\n",
      "---'   ____)____\n",
      "          ______)\n",
      "       __________)\n",
      "      (____)\n",
      "---.__(___)\n",
      "\n",
      "you lose\n"
     ]
    }
   ],
   "source": [
    "import random\n",
    "rock = '''\n",
    "    _______\n",
    "---'   ____)\n",
    "      (_____)\n",
    "      (_____)\n",
    "      (____)\n",
    "---.__(___)\n",
    "'''\n",
    "\n",
    "paper = '''\n",
    "    _______\n",
    "---'   ____)____\n",
    "          ______)\n",
    "          _______)\n",
    "         _______)\n",
    "---.__________)\n",
    "'''\n",
    "\n",
    "scissors = '''\n",
    "    _______\n",
    "---'   ____)____\n",
    "          ______)\n",
    "       __________)\n",
    "      (____)\n",
    "---.__(___)\n",
    "'''\n",
    "\n",
    "game_choice = [rock,paper,scissors]\n",
    "\n",
    "user_choice = int(input(\"Enter your choice? 1=rock, 2=paper, 3=scissors \"))\n",
    "\n",
    "if user_choice<0 or user_choice>2:\n",
    "    print(\"Enter a valid input\")\n",
    "\n",
    "else:\n",
    "    print(game_choice[user_choice])\n",
    "\n",
    "    computer_choice = random.randint(0,2)\n",
    "    print(\"computer choice\")\n",
    "    print(game_choice[computer_choice])\n",
    "\n",
    "\n",
    "    if computer_choice == 0 and user_choice == 2:\n",
    "        print(\"you lose\")\n",
    "    \n",
    "    elif user_choice == 0 and computer_choice ==2:\n",
    "        print(\"you win\")\n",
    "    elif computer_choice > user_choice:\n",
    "        print(\"you lose\")\n",
    "    elif user_choice > computer_choice:\n",
    "        print(\"you win\")\n",
    "    elif user_choice == computer_choice:\n",
    "        print(\"Match draw\")"
   ]
  },
  {
   "cell_type": "markdown",
   "id": "be5165b0",
   "metadata": {},
   "source": [
    "### Calculate the average height of students "
   ]
  },
  {
   "cell_type": "code",
   "execution_count": 8,
   "id": "889120b2",
   "metadata": {},
   "outputs": [
    {
     "name": "stdout",
     "output_type": "stream",
     "text": [
      "enter the height of students in \"s cm \"s separating them by comma? 1,2,3,4,5\n",
      "3\n"
     ]
    }
   ],
   "source": [
    "heights = input(\"enter the height of students in \\\"s cm \\\"s separating them by comma? \")\n",
    "height_list = heights.split(\",\")\n",
    "\n",
    "total_height = 0\n",
    "for i in height_list:\n",
    "        i = int(i)\n",
    "        total_height+=i\n",
    "        \n",
    "average_height = total_height/len(height_list)\n",
    "print(round(average_height))"
   ]
  },
  {
   "cell_type": "code",
   "execution_count": 28,
   "id": "2e7ef9cd",
   "metadata": {},
   "outputs": [
    {
     "name": "stdout",
     "output_type": "stream",
     "text": [
      "enter the height of students in \"s cm \"s separating them by comma? 1,2\n",
      "2\n"
     ]
    }
   ],
   "source": [
    "heights = input(\"enter the height of students in \\\"s cm \\\"s separating them by comma? \")\n",
    "height_list = heights.split(\",\")\n",
    "total_height = 0\n",
    "for n in (0,len(height_list)-1):    \n",
    "    height_list[n] = int(height_list[n])\n",
    "    total_height+=height_list[n]\n",
    "    \n",
    "print(round(total_height/len(height_list)))"
   ]
  },
  {
   "cell_type": "code",
   "execution_count": 26,
   "id": "d372f0b8",
   "metadata": {},
   "outputs": [
    {
     "name": "stdout",
     "output_type": "stream",
     "text": [
      "enter the height of students in \"s cm \"s separating them by comma? 1,2,3\n",
      "['1', '2', '3']\n"
     ]
    }
   ],
   "source": [
    "height_list = input(\"enter the height of students in \\\"s cm \\\"s separating them by comma? \").split(\",\")\n",
    "\n",
    "print(height_list)\n",
    "total_height = 0\n",
    "c=0\n",
    "for i in height_list:\n",
    "        i = int(i)\n",
    "        total_height+=i\n",
    "        c+=1\n",
    "\n",
    "print(round(total_height/c))"
   ]
  },
  {
   "cell_type": "markdown",
   "id": "a17115ff",
   "metadata": {},
   "source": [
    "### calculate the max number from a list of numbers"
   ]
  },
  {
   "cell_type": "code",
   "execution_count": 31,
   "id": "a65b31b6",
   "metadata": {},
   "outputs": [
    {
     "name": "stdout",
     "output_type": "stream",
     "text": [
      "Enter marks of students separated by comma? 10,20,40\n",
      "40\n"
     ]
    }
   ],
   "source": [
    "marks = input(\"Enter marks of students separated by comma? \").split(\",\")\n",
    "c = 0\n",
    "for i in marks:\n",
    "    i = int(i) \n",
    "    if   i>c:\n",
    "         c=i\n",
    "print(c)"
   ]
  },
  {
   "cell_type": "markdown",
   "id": "3bd2cc36",
   "metadata": {},
   "source": [
    "### Password Generator Project"
   ]
  },
  {
   "cell_type": "code",
   "execution_count": 25,
   "id": "2889a66d",
   "metadata": {},
   "outputs": [
    {
     "name": "stdout",
     "output_type": "stream",
     "text": [
      "Welcome to the PyPassword Generator!\n",
      "How many letters would you like in your password?\n",
      "2\n",
      "How many numbers would you like?\n",
      "2\n",
      "How many symbols would you like?\n",
      "2\n",
      "your password is ['E', 'I', '5', '(', '*', '6']\n"
     ]
    }
   ],
   "source": [
    "import random\n",
    "letters = ['a', 'b', 'c', 'd', 'e', 'f', 'g', 'h', 'i', 'j', 'k', 'l', 'm', 'n', 'o', 'p', 'q', 'r', 's', 't', 'u', 'v', 'w', 'x', 'y', 'z', 'A', 'B', 'C', 'D', 'E', 'F', 'G', 'H', 'I', 'J', 'K', 'L', 'M', 'N', 'O', 'P', 'Q', 'R', 'S', 'T', 'U', 'V', 'W', 'X', 'Y', 'Z']\n",
    "numbers = ['0', '1', '2', '3', '4', '5', '6', '7', '8', '9']\n",
    "symbols = ['!', '#', '$', '%', '&', '(', ')', '*', '+']\n",
    "\n",
    "print(\"Welcome to the PyPassword Generator!\")\n",
    "nr_letters= int(input(\"How many letters would you like in your password?\\n\")) \n",
    "nr_numbers = int(input(f\"How many numbers would you like?\\n\"))\n",
    "nr_symbols = int(input(f\"How many symbols would you like?\\n\"))\n",
    "\n",
    "\n",
    "#password generator by first letters, symbols, numbers\n",
    "a = random.sample(letters,nr_letters)\n",
    "b = random.sample(numbers,nr_numbers)\n",
    "c = random.sample(symbols,nr_symbols)\n",
    "d = a+b+c\n",
    "\n",
    "e = random.sample(d,len(d)) #this will give a random list from a list\n",
    "                         # random.choice(list_name) = this will give a single random element from the list\n",
    "print(f\"your password is {e}\")"
   ]
  },
  {
   "cell_type": "code",
   "execution_count": 26,
   "id": "33c4064c",
   "metadata": {},
   "outputs": [
    {
     "name": "stdout",
     "output_type": "stream",
     "text": [
      "Welcome to the PyPassword Generator!\n",
      "How many letters would you like in your password?\n",
      "2\n",
      "How many numbers would you like?\n",
      "2\n",
      "How many symbols would you like?\n",
      "2\n",
      "Fv78*)\n"
     ]
    }
   ],
   "source": [
    "letters = ['a', 'b', 'c', 'd', 'e', 'f', 'g', 'h', 'i', 'j', 'k', 'l', 'm', 'n', 'o', 'p', 'q', 'r', 's', 't',\n",
    "           'u', 'v', 'w', 'x', 'y', 'z', 'A', 'B', 'C', 'D', 'E', 'F', 'G', 'H', 'I', 'J', 'K', 'L', 'M', 'N', \n",
    "           'O', 'P', 'Q', 'R', 'S', 'T', 'U', 'V', 'W', 'X', 'Y', 'Z']\n",
    "\n",
    "numbers = ['0', '1', '2', '3', '4', '5', '6', '7', '8', '9']\n",
    "symbols = ['!', '#', '$', '%', '&', '(', ')', '*', '+']\n",
    "\n",
    "print(\"Welcome to the PyPassword Generator!\")\n",
    "nr_letters= int(input(\"How many letters would you like in your password?\\n\")) \n",
    "nr_numbers = int(input(f\"How many numbers would you like?\\n\"))\n",
    "nr_symbols = int(input(f\"How many symbols would you like?\\n\"))\n",
    "\n",
    "# #easy method in which the password will be generated by by adding random values of letters,numbers,symbos.\n",
    "import random\n",
    "password = \"\"\n",
    "for char in range(0,nr_letters):\n",
    "    password+=random.choice(letters)\n",
    "    \n",
    "for char in range(0,nr_numbers):\n",
    "    password+=random.choice(numbers)\n",
    "    \n",
    "for char in range(0,nr_symbols):\n",
    "    password+=random.choice(symbols)\n",
    "    \n",
    "print(password)\n",
    "\n"
   ]
  },
  {
   "cell_type": "code",
   "execution_count": null,
   "id": "87fe17b8",
   "metadata": {},
   "outputs": [],
   "source": [
    "#tough method in which the random paswword is generated\n",
    "#shuffled form of above \n",
    "password_list = []\n",
    "\n",
    "for char in range(0,nr_letters):\n",
    "    password_list.append(random.choice(letters)) # both + & append works as same.\n",
    "\n",
    "for char in range(0,nr_numbers):\n",
    "    password_list+=(random.choice(numbers))\n",
    "    \n",
    "for char in range(0,nr_symbols):\n",
    "    password_list+=(random.choice(symbols))\n",
    "\n",
    "random.shuffle(password_list)\n",
    "print(password_list)\n",
    "\n",
    "# now turn it back into a string\n",
    "password = \"\"\n",
    "for char in password_list:\n",
    "    password+=char\n",
    "    \n",
    "print(f\"Your password is {password}\")\n",
    "\n"
   ]
  },
  {
   "cell_type": "code",
   "execution_count": 22,
   "id": "614d6a01",
   "metadata": {},
   "outputs": [
    {
     "name": "stdout",
     "output_type": "stream",
     "text": [
      "['a', 'e', 'c', 'b', 'd']\n"
     ]
    }
   ],
   "source": [
    "my_list = ['a','b','c','d','e']\n",
    "my_order = [0,4,2,1,3]   # to shuffle a list\n",
    "a = [my_list[i] for i in my_order]\n",
    "print(a)"
   ]
  },
  {
   "cell_type": "code",
   "execution_count": 96,
   "id": "cf5dc51c",
   "metadata": {},
   "outputs": [
    {
     "name": "stdout",
     "output_type": "stream",
     "text": [
      "[1, 0, 0, 0, 0, 1, 1, 0, 1, 1, 0, 1, 0, 1, 0, 1, 1, 1, 1, 0, 0, 1, 1, 1, 1, 1, 0, 1, 1, 1]\n"
     ]
    }
   ],
   "source": [
    "import random\n",
    "\n",
    "# my_list = ['a','b','c','d','e']\n",
    "# print(random.choices(my_list,k=4))\n",
    "\n",
    "l = [0, 1, 2, 3, 4]\n",
    "\n",
    "# print(random.choices(l, k=4),\"\\n\")\n",
    "\n",
    "# [2, 1, 0]\n",
    "\n",
    "# print(random.choices(l, k=10),\"\\n\")\n",
    "\n",
    "### [3, 4, 1, 4, 4, 2, 0, 4, 2, 0]\n",
    "\n",
    "# print(random.choices(l, k=10, weights=[1, 1, 1, 10, 1]),\"\\n\")\n",
    "\n",
    " # # [0, 2, 3]\n",
    "\n",
    "\n",
    "# print(random.choices(l, k=3, weights=[1, 1, 1, 10, 1]))\n",
    "# # [0, 2, 3]\n",
    "\n",
    "print(random.choices(l, k=30, weights=[1, 1, 0, 0, 0]))\n",
    "# [0, 1, 1]\n",
    "# print(random.choices(l,k=6, cum_weights = [2, 3, 1, 1, 0]))\n",
    "\n",
    "# print(random.choices(l, k=2, cum_weights=[1, 2, 3, 13, 14]))\n",
    "# [3, 2, 3]"
   ]
  },
  {
   "cell_type": "code",
   "execution_count": null,
   "id": "7d86264e",
   "metadata": {},
   "outputs": [],
   "source": [
    "# # Return a list with 14 items.\n",
    "# # The list should contain a randomly selection of the values from a specified list, and there should \n",
    "# # be 10 times higher possibility to select \"apple\" than the other two:\n",
    "\n",
    "\n",
    "\n",
    "\n",
    "import random\n",
    "\n",
    "mylist = [\"apple\", \"banana\", \"cherry\"]\n",
    "\n",
    "print(random.choices(mylist, weights = [10, 1, 1], k = 14))"
   ]
  }
 ],
 "metadata": {
  "kernelspec": {
   "display_name": "Python 3 (ipykernel)",
   "language": "python",
   "name": "python3"
  },
  "language_info": {
   "codemirror_mode": {
    "name": "ipython",
    "version": 3
   },
   "file_extension": ".py",
   "mimetype": "text/x-python",
   "name": "python",
   "nbconvert_exporter": "python",
   "pygments_lexer": "ipython3",
   "version": "3.9.7"
  }
 },
 "nbformat": 4,
 "nbformat_minor": 5
}
